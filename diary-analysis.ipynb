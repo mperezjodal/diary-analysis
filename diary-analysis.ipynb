{
 "cells": [
  {
   "cell_type": "markdown",
   "metadata": {},
   "source": [
    "# Hello and welcome!\n",
    "\n",
    "*What is this notebook about?*\n",
    "\n",
    "This is my attempt to explore my personal diary and the posibilities of knwoledge discovery.\n",
    "\n",
    "*Methodology*\n",
    "\n",
    "I will try to iteratively (monthly) add new perspectives to this search for meaning.\n",
    "\n",
    "*About my diary entries*\n",
    "\n",
    "Unfortunately, I would feel rather uncomfortable to share my dairy entries -but i'll do share all my analysis results! (which is kind of ironic if you think that if I succeed in analysing my data, I will share all my \"secrets\" anyways 🥴)-, so here is some relevant information about them:\n",
    "- I write very freely about a range of personal topics, thoughts and feelings.\n",
    "- I write mostly in Spanish, some English, and some of my own language.\n",
    "- I've gathered 21 months of entries so far."
   ]
  },
  {
   "cell_type": "markdown",
   "metadata": {},
   "source": [
    "## Results\n",
    "\n",
    "..."
   ]
  },
  {
   "cell_type": "code",
   "execution_count": 5,
   "metadata": {},
   "outputs": [
    {
     "name": "stdout",
     "output_type": "stream",
     "text": [
      "['diary-4.txt', 'diary-5.txt', 'diary-1.txt', 'diary-2.txt', 'diary-3.txt']\n"
     ]
    },
    {
     "name": "stderr",
     "output_type": "stream",
     "text": [
      "/var/folders/sd/c89_7ybj62s9w09y5w6qnvt80000gn/T/ipykernel_22575/459695175.py:6: FutureWarning: Passing a negative integer is deprecated in version 1.0 and will not be supported in future version. Instead, use None to not limit the column width.\n",
      "  pd.set_option('display.max_colwidth', -1)\n"
     ]
    },
    {
     "ename": "AttributeError",
     "evalue": "'NoneType' object has no attribute 'group'",
     "output_type": "error",
     "traceback": [
      "\u001b[0;31m---------------------------------------------------------------------------\u001b[0m",
      "\u001b[0;31mAttributeError\u001b[0m                            Traceback (most recent call last)",
      "\u001b[1;32m/Users/marceloperez/Documents/diary-analysis/diary-analysis.ipynb Cell 3\u001b[0m in \u001b[0;36m<cell line: 21>\u001b[0;34m()\u001b[0m\n\u001b[1;32m     <a href='vscode-notebook-cell:/Users/marceloperez/Documents/diary-analysis/diary-analysis.ipynb#ch0000002?line=25'>26</a>\u001b[0m journal_raw \u001b[39m=\u001b[39m \u001b[39mopen\u001b[39m(full_file_path)\n\u001b[1;32m     <a href='vscode-notebook-cell:/Users/marceloperez/Documents/diary-analysis/diary-analysis.ipynb#ch0000002?line=27'>28</a>\u001b[0m \u001b[39m#parse out specific year from text file for use in dataframe\u001b[39;00m\n\u001b[0;32m---> <a href='vscode-notebook-cell:/Users/marceloperez/Documents/diary-analysis/diary-analysis.ipynb#ch0000002?line=28'>29</a>\u001b[0m year \u001b[39m=\u001b[39m re\u001b[39m.\u001b[39;49msearch(\u001b[39mr\u001b[39;49m\u001b[39m'\u001b[39;49m\u001b[39m(\u001b[39;49m\u001b[39m\\\u001b[39;49m\u001b[39md\u001b[39;49m\u001b[39m{4}\u001b[39;49;00m\u001b[39m)\u001b[39;49m\u001b[39m'\u001b[39;49m,full_file_path)\u001b[39m.\u001b[39;49mgroup()\n\u001b[1;32m     <a href='vscode-notebook-cell:/Users/marceloperez/Documents/diary-analysis/diary-analysis.ipynb#ch0000002?line=30'>31</a>\u001b[0m \u001b[39m#Read in journal line, by line and parse our dates to associate dates with specific entry  \u001b[39;00m\n\u001b[1;32m     <a href='vscode-notebook-cell:/Users/marceloperez/Documents/diary-analysis/diary-analysis.ipynb#ch0000002?line=31'>32</a>\u001b[0m \u001b[39mfor\u001b[39;00m paragraph \u001b[39min\u001b[39;00m journal_raw\u001b[39m.\u001b[39mreadlines():\n\u001b[1;32m     <a href='vscode-notebook-cell:/Users/marceloperez/Documents/diary-analysis/diary-analysis.ipynb#ch0000002?line=32'>33</a>\u001b[0m     \u001b[39m#Use pattern matching to parse out date, input can be various formats (May 17, 5/17, 5/17/2020, etc)\u001b[39;00m\n",
      "\u001b[0;31mAttributeError\u001b[0m: 'NoneType' object has no attribute 'group'"
     ]
    }
   ],
   "source": [
    "# DATA INGESTION\n",
    "\n",
    "import os\n",
    "import pandas as pd\n",
    "import re\n",
    "pd.set_option('display.max_colwidth', -1)\n",
    "\n",
    "#Read contents of journal archive into list for processing\n",
    "folder='data/'\n",
    "list_of_journals=[]\n",
    "journal_files = os.listdir(folder)\n",
    "print(journal_files)\n",
    "for file in journal_files:\n",
    "    full_file_path=folder+file\n",
    "    list_of_journals.append(full_file_path)\n",
    "    \n",
    "#Create DataFrame shell to load data as we parse through journal\n",
    "journal_df = pd.DataFrame(columns=['year', 'date', 'entry'])\n",
    "\n",
    "#For each file(a single year), read in data.\n",
    "for full_file_path in list_of_journals:\n",
    "    journal_list_of_dicts = []\n",
    "    journal_dict={}\n",
    "    paragraph_list = []\n",
    "    previous_date='NONE'\n",
    "    journal_raw = open(full_file_path)\n",
    "    \n",
    "    #parse out specific year from text file for use in dataframe\n",
    "    year = re.search(r'(\\d{4})',full_file_path).group()\n",
    "    \n",
    "    #Read in journal line, by line and parse our dates to associate dates with specific entry  \n",
    "    for paragraph in journal_raw.readlines():\n",
    "        #Use pattern matching to parse out date, input can be various formats (May 17, 5/17, 5/17/2020, etc)\n",
    "        pattern = r'(\\d+(\\/|-){1}\\d+(\\/|-)?\\d{0,4})|((Jan|Feb|Mar|Apr|May|Jun|Jul|Aug|Sep|Oct|Nov|Dec)[a-z]*\\s\\d{1,2})'\n",
    "        date_match = re.search(pattern, paragraph, re.IGNORECASE)\n",
    "        if date_match and len(paragraph)<35: #length to prevent mid paragraph dates from being grabbed\n",
    "            if len(journal_list_of_dicts)>0: #this is not the first instance of date, therefore we need to save date and list of paragraphs\n",
    "                journal_dict = {'year':year,\n",
    "                                'date': previous_date,\n",
    "                                'entry': paragraph_list}\n",
    "                journal_list_of_dicts.append(journal_dict)\n",
    "                #save for use in next loop\n",
    "                previous_date = date_match.group()\n",
    "                #re_initialize list of paragraphs, and journal_dict\n",
    "                paragraph_list = []\n",
    "                journal_dict = {}\n",
    "            else:\n",
    "                if previous_date == 'NONE':\n",
    "                #continue looping and save date, this is the first instance of saving a date - need to continue loop to graph paragraphs\n",
    "                    previous_date = date_match.group()\n",
    "                else:\n",
    "                    #first instance and need to start list of dicts\n",
    "                    journal_dict = {'date': previous_date,\n",
    "                                    'year':year,\n",
    "                                    'entry': paragraph_list}\n",
    "                    journal_list_of_dicts.append(journal_dict)\n",
    "                    previous_date = date_match.group(0)\n",
    "                    #reset for next date\n",
    "                    paragraph_list = []\n",
    "                    journal_dict = {}\n",
    "        else:\n",
    "            #paragraph is not a date entry is continuing - must be saved to paragraph list\n",
    "            paragraph_list.append(paragraph)\n",
    "    #final entry\n",
    "    journal_dict = {'date': previous_date,\n",
    "                    'year':year,\n",
    "                    'entry': paragraph_list}\n",
    "    journal_list_of_dicts.append(journal_dict)\n",
    "    #save to DF and concat to previous\n",
    "    journal_df = pd.concat([pd.DataFrame(journal_list_of_dicts),journal_df], sort=False)"
   ]
  },
  {
   "cell_type": "markdown",
   "metadata": {},
   "source": [
    "## References:\n",
    "- I heavily replicated this awesome notebook: https://github.com/datachico/data_mine_journal/blob/Updated_file/NLP_on_a_diary.ipynb"
   ]
  }
 ],
 "metadata": {
  "kernelspec": {
   "display_name": "Python 3.9.12 64-bit",
   "language": "python",
   "name": "python3"
  },
  "language_info": {
   "codemirror_mode": {
    "name": "ipython",
    "version": 3
   },
   "file_extension": ".py",
   "mimetype": "text/x-python",
   "name": "python",
   "nbconvert_exporter": "python",
   "pygments_lexer": "ipython3",
   "version": "3.9.12"
  },
  "orig_nbformat": 4,
  "vscode": {
   "interpreter": {
    "hash": "b0fa6594d8f4cbf19f97940f81e996739fb7646882a419484c72d19e05852a7e"
   }
  }
 },
 "nbformat": 4,
 "nbformat_minor": 2
}
