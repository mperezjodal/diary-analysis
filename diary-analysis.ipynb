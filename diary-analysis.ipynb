{
 "cells": [
  {
   "cell_type": "markdown",
   "metadata": {},
   "source": [
    "Hello and welcome!\n",
    "\n",
    "What is this notebook about?\n",
    "This is my attempt in exploring my own personal diary and the posibilities of knwoledge discovery.\n",
    "\n",
    "Mathod\n",
    "I will try to iteratively add new perspectives to this search for meaning.\n",
    "\n",
    "Comments\n",
    "Unfortunately, I would feel uncomfortable to share my dairy entries (but i'll do share all my analysis results!), so here are some relevant information about them:\n",
    "- I write very freely about a range of personal topics, thoughts and feelings.\n",
    "- I write mostly in Spanish, some English, and some of my own language.\n",
    "- I've gathered 20 months of entries so far."
   ]
  },
  {
   "cell_type": "markdown",
   "metadata": {},
   "source": [
    "Results"
   ]
  },
  {
   "cell_type": "code",
   "execution_count": null,
   "metadata": {},
   "outputs": [],
   "source": [
    "# Data ingestion\n",
    "import os\n",
    "import pandas as pd\n",
    "import re\n",
    "\n",
    "folder='archive/'\n",
    "list_of_journals=[]\n",
    "journal_files = os.listdir(folder)\n",
    "for file in journal_files:\n",
    "    full_file_path=folder+file\n",
    "    list_of_journals.append(full_file_path)"
   ]
  },
  {
   "cell_type": "markdown",
   "metadata": {},
   "source": [
    "References:\n",
    "- https://github.com/datachico/data_mine_journal/blob/Updated_file/NLP_on_a_diary.ipynb"
   ]
  }
 ],
 "metadata": {
  "kernelspec": {
   "display_name": "Python 3.9.12 64-bit",
   "language": "python",
   "name": "python3"
  },
  "language_info": {
   "name": "python",
   "version": "3.9.12"
  },
  "orig_nbformat": 4,
  "vscode": {
   "interpreter": {
    "hash": "b0fa6594d8f4cbf19f97940f81e996739fb7646882a419484c72d19e05852a7e"
   }
  }
 },
 "nbformat": 4,
 "nbformat_minor": 2
}
